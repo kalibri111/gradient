{
 "cells": [
  {
   "cell_type": "code",
   "execution_count": 1,
   "id": "valuable-china",
   "metadata": {},
   "outputs": [],
   "source": [
    "import cv2 as cv\n",
    "scale = 1\n",
    "delta = 0\n",
    "ddepth = cv.CV_16S"
   ]
  },
  {
   "cell_type": "code",
   "execution_count": 2,
   "id": "recent-charles",
   "metadata": {},
   "outputs": [],
   "source": [
    "def test_grad(path):\n",
    "    image = cv.imread(path, cv.IMREAD_GRAYSCALE)\n",
    "    cv.imshow('Grayscale image', image)\n",
    "    grad_x = cv.Sobel(image, ddepth, 1, 0, ksize=3, scale=scale, delta=delta, borderType=cv.BORDER_DEFAULT)\n",
    "    grad_y = cv.Sobel(image, ddepth, 0, 1, ksize=3, scale=scale, delta=delta, borderType=cv.BORDER_DEFAULT)\n",
    "    \n",
    "    abs_grad_x = cv.convertScaleAbs(grad_x)\n",
    "    abs_grad_y = cv.convertScaleAbs(grad_y)\n",
    "    \n",
    "    grad = cv.addWeighted(abs_grad_x, 0.5, abs_grad_y, 0.5, 0)\n",
    "    cv.imshow('Test Gradient', grad)\n",
    "    cv.waitKey(1)\n"
   ]
  },
  {
   "cell_type": "code",
   "execution_count": 4,
   "id": "developed-strand",
   "metadata": {},
   "outputs": [],
   "source": [
    "test_grad('test/resource/gradient_and_mono.png')"
   ]
  },
  {
   "cell_type": "code",
   "execution_count": null,
   "id": "located-basin",
   "metadata": {},
   "outputs": [],
   "source": []
  }
 ],
 "metadata": {
  "kernelspec": {
   "display_name": "condaEnv",
   "language": "python",
   "name": "condaenv"
  },
  "language_info": {
   "codemirror_mode": {
    "name": "ipython",
    "version": 3
   },
   "file_extension": ".py",
   "mimetype": "text/x-python",
   "name": "python",
   "nbconvert_exporter": "python",
   "pygments_lexer": "ipython3",
   "version": "3.9.5"
  }
 },
 "nbformat": 4,
 "nbformat_minor": 5
}
